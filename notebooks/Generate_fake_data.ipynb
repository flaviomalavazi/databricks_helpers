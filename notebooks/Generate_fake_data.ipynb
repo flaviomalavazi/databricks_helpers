{
 "cells": [
  {
   "cell_type": "code",
   "execution_count": 0,
   "metadata": {
    "application/vnd.databricks.v1+cell": {
     "cellMetadata": {
      "byteLimit": 2048000,
      "rowLimit": 10000
     },
     "inputWidgets": {},
     "nuid": "160b09ac-5f19-40c5-afb6-735ee8e74d65",
     "showTitle": false,
     "title": ""
    }
   },
   "outputs": [
    {
     "output_type": "stream",
     "name": "stdout",
     "output_type": "stream",
     "text": [
      "\u001B[43mNote: you may need to restart the kernel using dbutils.library.restartPython() to use updated packages.\u001B[0m\n\u001B[43mNote: you may need to restart the kernel using dbutils.library.restartPython() to use updated packages.\u001B[0m\n\u001B[43mNote: you may need to restart the kernel using dbutils.library.restartPython() to use updated packages.\u001B[0m\n\u001B[43mNote: you may need to restart the kernel using dbutils.library.restartPython() to use updated packages.\u001B[0m\n"
     ]
    }
   ],
   "source": [
    "%pip install databricks-sdk==0.19.1 --quiet --disable-pip-version-check\n",
    "%pip install databricks-genai-inference==0.2.3 --quiet --disable-pip-version-check\n",
    "dbutils.library.restartPython()"
   ]
  },
  {
   "cell_type": "code",
   "execution_count": 0,
   "metadata": {
    "application/vnd.databricks.v1+cell": {
     "cellMetadata": {
      "byteLimit": 2048000,
      "rowLimit": 10000
     },
     "inputWidgets": {},
     "nuid": "25927586-cc15-42dd-b2b7-c3b3f6bef67a",
     "showTitle": false,
     "title": ""
    }
   },
   "outputs": [],
   "source": [
    "from databricks_genai_inference import ChatSession\n",
    "import ast\n",
    "\n",
    "chat = ChatSession(model=\"databricks-dbrx-instruct\", system_message=\"Você é um assistente para GERAÇÃO DE DADOS SINTÉTICOS, você deve responder as perguntas com listas delimitadas e dados nos moldes solicitados pela pergunta. Responda tudo em português do brasil. NÃO inclua emojis. NÃO inclua quebras de linha. NÃO numere as linhas.\", max_tokens=4096)"
   ]
  },
  {
   "cell_type": "code",
   "execution_count": 0,
   "metadata": {
    "application/vnd.databricks.v1+cell": {
     "cellMetadata": {
      "byteLimit": 2048000,
      "rowLimit": 10000
     },
     "inputWidgets": {},
     "nuid": "a2c524c4-57eb-4cc5-9825-70afd4727f92",
     "showTitle": false,
     "title": ""
    }
   },
   "outputs": [
    {
     "output_type": "execute_result",
     "data": {
      "text/plain": [
       "<databricks_genai_inference.api.objects.chat_completion_object.ChatCompletionObject at 0x7f4a335b7fa0>"
      ]
     },
     "execution_count": 133,
     "metadata": {},
     "output_type": "execute_result"
    }
   ],
   "source": [
    "chat.reply(\"\"\"Gere um conjunto de dados com uma coluna de ID de turbina dentre na lista ['WindTurbine-1', 'WindTurbine-2', 'WindTurbine-3', 'WindTurbine-4','WindTurbine-5', 'WindTurbine-6', 'WindTurbine-7', 'WindTurbine-8', 'WindTurbine-9'] e uma coluna com observações sobre a manutenção da turbina que inclui comentários a respeito de qual o defeito apresentado, qual foi o reparo, quanto tempo demorou, dentre outros, Inclua também uma coluna com o nome do técnico responsável pela manutenção. Monte as respostas com estrutura: [id da turbina; nome do técnico responsavel; observações sobre a manutenção]. Você deve gerar 30 exemplos. Seguem dois exemplos de como os dados devem ser apresentados: ['WindTurbine-1', 'Técnico A', 'Substituição de componentes eletrônicos - demorou 7 horas'],['WindTurbine-2', 'Técnico B', 'Reparo em cabos e conectores - demorou 4 horas'],['WindTurbine-3', 'Técnico C', 'Manutenção preventiva - demorou 2 horas']\"\"\")\n"
   ]
  },
  {
   "cell_type": "code",
   "execution_count": 0,
   "metadata": {
    "application/vnd.databricks.v1+cell": {
     "cellMetadata": {
      "byteLimit": 2048000,
      "rowLimit": 10000
     },
     "inputWidgets": {},
     "nuid": "2703cf3d-2960-4dfc-bcf9-d72ecc45f0a1",
     "showTitle": false,
     "title": ""
    }
   },
   "outputs": [],
   "source": [
    "dados_sinteticos = []\n",
    "for elemento in list(ast.literal_eval(str(chat.last).replace(\"\\n\", \"\"))):\n",
    "    dados_sinteticos.append({\n",
    "        \"turbineId\": elemento[0],\n",
    "        \"technicianId\": elemento[1],\n",
    "        \"maintenanceComment\": elemento[2]\n",
    "    })"
   ]
  },
  {
   "cell_type": "code",
   "execution_count": 0,
   "metadata": {
    "application/vnd.databricks.v1+cell": {
     "cellMetadata": {
      "byteLimit": 2048000,
      "rowLimit": 10000
     },
     "inputWidgets": {},
     "nuid": "1c47796e-356a-48ca-b48b-33e2b72f03e2",
     "showTitle": false,
     "title": ""
    }
   },
   "outputs": [],
   "source": [
    "dados_sinteticos = spark.createDataFrame(dados_sinteticos)"
   ]
  },
  {
   "cell_type": "code",
   "execution_count": 0,
   "metadata": {
    "application/vnd.databricks.v1+cell": {
     "cellMetadata": {
      "byteLimit": 2048000,
      "rowLimit": 10000
     },
     "inputWidgets": {},
     "nuid": "45845f4e-3e2d-46c8-af06-6dcd768c7244",
     "showTitle": false,
     "title": ""
    }
   },
   "outputs": [
    {
     "output_type": "display_data",
     "data": {
      "text/html": [
       "<style scoped>\n",
       "  .table-result-container {\n",
       "    max-height: 300px;\n",
       "    overflow: auto;\n",
       "  }\n",
       "  table, th, td {\n",
       "    border: 1px solid black;\n",
       "    border-collapse: collapse;\n",
       "  }\n",
       "  th, td {\n",
       "    padding: 5px;\n",
       "  }\n",
       "  th {\n",
       "    text-align: left;\n",
       "  }\n",
       "</style><div class='table-result-container'><table class='table-result'><thead style='background-color: white'><tr><th>maintenanceComment</th><th>technicianId</th><th>turbineId</th></tr></thead><tbody><tr><td>Substituição de peças mecânicas - demorou 6 horas</td><td>Técnico D</td><td>WindTurbine-1</td></tr><tr><td>Limpeza e manutenção de lâminas - demorou 3 horas</td><td>Técnico A</td><td>WindTurbine-2</td></tr><tr><td>Reparo em sistema de monitoramento - demorou 5 horas</td><td>Técnico B</td><td>WindTurbine-3</td></tr><tr><td>Manutenção preventiva - demorou 2 horas</td><td>Técnico C</td><td>WindTurbine-4</td></tr><tr><td>Substituição de componentes eletrônicos - demorou 7 horas</td><td>Técnico D</td><td>WindTurbine-5</td></tr><tr><td>Reparo em cabos e conectores - demorou 4 horas</td><td>Técnico A</td><td>WindTurbine-6</td></tr><tr><td>Manutenção preventiva - demorou 2 horas</td><td>Técnico B</td><td>WindTurbine-7</td></tr><tr><td>Substituição de peças mecânicas - demorou 6 horas</td><td>Técnico C</td><td>WindTurbine-8</td></tr><tr><td>Limpeza e manutenção de lâminas - demorou 3 horas</td><td>Técnico D</td><td>WindTurbine-9</td></tr><tr><td>Reparo em sistema de monitoramento - demorou 5 horas</td><td>Técnico A</td><td>WindTurbine-1</td></tr><tr><td>Manutenção preventiva - demorou 2 horas</td><td>Técnico B</td><td>WindTurbine-2</td></tr><tr><td>Substituição de componentes eletrônicos - demorou 7 horas</td><td>Técnico C</td><td>WindTurbine-3</td></tr><tr><td>Reparo em cabos e conectores - demorou 4 horas</td><td>Técnico D</td><td>WindTurbine-4</td></tr><tr><td>Manutenção preventiva - demorou 2 horas</td><td>Técnico A</td><td>WindTurbine-5</td></tr><tr><td>Substituição de peças mecânicas - demorou 6 horas</td><td>Técnico B</td><td>WindTurbine-6</td></tr><tr><td>Limpeza e manutenção de lâminas - demorou 3 horas</td><td>Técnico C</td><td>WindTurbine-7</td></tr><tr><td>Reparo em sistema de monitoramento - demorou 5 horas</td><td>Técnico D</td><td>WindTurbine-8</td></tr><tr><td>Manutenção preventiva - demorou 2 horas</td><td>Técnico A</td><td>WindTurbine-9</td></tr><tr><td>Substituição de componentes eletrônicos - demorou 7 horas</td><td>Técnico B</td><td>WindTurbine-1</td></tr><tr><td>Reparo em cabos e conectores - demorou 4 horas</td><td>Técnico C</td><td>WindTurbine-2</td></tr><tr><td>Manutenção preventiva - demorou 2 horas</td><td>Técnico D</td><td>WindTurbine-3</td></tr><tr><td>Substituição de peças mecânicas - demorou 6 horas</td><td>Técnico A</td><td>WindTurbine-4</td></tr><tr><td>Limpeza e manutenção de lâminas - demorou 3 horas</td><td>Técnico B</td><td>WindTurbine-5</td></tr><tr><td>Reparo em sistema de monitoramento - demorou 5 horas</td><td>Técnico C</td><td>WindTurbine-6</td></tr><tr><td>Manutenção preventiva - demorou 2 horas</td><td>Técnico D</td><td>WindTurbine-7</td></tr><tr><td>Substituição de componentes eletrônicos - demorou 7 horas</td><td>Técnico A</td><td>WindTurbine-8</td></tr><tr><td>Reparo em cabos e conectores - demorou 4 horas</td><td>Técnico B</td><td>WindTurbine-9</td></tr></tbody></table></div>"
      ]
     },
     "metadata": {
      "application/vnd.databricks.v1+output": {
       "addedWidgets": {},
       "aggData": [],
       "aggError": "",
       "aggOverflow": false,
       "aggSchema": [],
       "aggSeriesLimitReached": false,
       "aggType": "",
       "arguments": {},
       "columnCustomDisplayInfos": {},
       "data": [
        [
         "Substituição de peças mecânicas - demorou 6 horas",
         "Técnico D",
         "WindTurbine-1"
        ],
        [
         "Limpeza e manutenção de lâminas - demorou 3 horas",
         "Técnico A",
         "WindTurbine-2"
        ],
        [
         "Reparo em sistema de monitoramento - demorou 5 horas",
         "Técnico B",
         "WindTurbine-3"
        ],
        [
         "Manutenção preventiva - demorou 2 horas",
         "Técnico C",
         "WindTurbine-4"
        ],
        [
         "Substituição de componentes eletrônicos - demorou 7 horas",
         "Técnico D",
         "WindTurbine-5"
        ],
        [
         "Reparo em cabos e conectores - demorou 4 horas",
         "Técnico A",
         "WindTurbine-6"
        ],
        [
         "Manutenção preventiva - demorou 2 horas",
         "Técnico B",
         "WindTurbine-7"
        ],
        [
         "Substituição de peças mecânicas - demorou 6 horas",
         "Técnico C",
         "WindTurbine-8"
        ],
        [
         "Limpeza e manutenção de lâminas - demorou 3 horas",
         "Técnico D",
         "WindTurbine-9"
        ],
        [
         "Reparo em sistema de monitoramento - demorou 5 horas",
         "Técnico A",
         "WindTurbine-1"
        ],
        [
         "Manutenção preventiva - demorou 2 horas",
         "Técnico B",
         "WindTurbine-2"
        ],
        [
         "Substituição de componentes eletrônicos - demorou 7 horas",
         "Técnico C",
         "WindTurbine-3"
        ],
        [
         "Reparo em cabos e conectores - demorou 4 horas",
         "Técnico D",
         "WindTurbine-4"
        ],
        [
         "Manutenção preventiva - demorou 2 horas",
         "Técnico A",
         "WindTurbine-5"
        ],
        [
         "Substituição de peças mecânicas - demorou 6 horas",
         "Técnico B",
         "WindTurbine-6"
        ],
        [
         "Limpeza e manutenção de lâminas - demorou 3 horas",
         "Técnico C",
         "WindTurbine-7"
        ],
        [
         "Reparo em sistema de monitoramento - demorou 5 horas",
         "Técnico D",
         "WindTurbine-8"
        ],
        [
         "Manutenção preventiva - demorou 2 horas",
         "Técnico A",
         "WindTurbine-9"
        ],
        [
         "Substituição de componentes eletrônicos - demorou 7 horas",
         "Técnico B",
         "WindTurbine-1"
        ],
        [
         "Reparo em cabos e conectores - demorou 4 horas",
         "Técnico C",
         "WindTurbine-2"
        ],
        [
         "Manutenção preventiva - demorou 2 horas",
         "Técnico D",
         "WindTurbine-3"
        ],
        [
         "Substituição de peças mecânicas - demorou 6 horas",
         "Técnico A",
         "WindTurbine-4"
        ],
        [
         "Limpeza e manutenção de lâminas - demorou 3 horas",
         "Técnico B",
         "WindTurbine-5"
        ],
        [
         "Reparo em sistema de monitoramento - demorou 5 horas",
         "Técnico C",
         "WindTurbine-6"
        ],
        [
         "Manutenção preventiva - demorou 2 horas",
         "Técnico D",
         "WindTurbine-7"
        ],
        [
         "Substituição de componentes eletrônicos - demorou 7 horas",
         "Técnico A",
         "WindTurbine-8"
        ],
        [
         "Reparo em cabos e conectores - demorou 4 horas",
         "Técnico B",
         "WindTurbine-9"
        ]
       ],
       "datasetInfos": [],
       "dbfsResultPath": null,
       "isJsonSchema": true,
       "metadata": {},
       "overflow": false,
       "plotOptions": {
        "customPlotOptions": {},
        "displayType": "table",
        "pivotAggregation": null,
        "pivotColumns": null,
        "xColumns": null,
        "yColumns": null
       },
       "removedWidgets": [],
       "schema": [
        {
         "metadata": "{}",
         "name": "maintenanceComment",
         "type": "\"string\""
        },
        {
         "metadata": "{}",
         "name": "technicianId",
         "type": "\"string\""
        },
        {
         "metadata": "{}",
         "name": "turbineId",
         "type": "\"string\""
        }
       ],
       "type": "table"
      }
     },
     "output_type": "display_data"
    }
   ],
   "source": [
    "display(dados_sinteticos)"
   ]
  },
  {
   "cell_type": "code",
   "execution_count": 0,
   "metadata": {
    "application/vnd.databricks.v1+cell": {
     "cellMetadata": {
      "byteLimit": 2048000,
      "rowLimit": 10000
     },
     "inputWidgets": {},
     "nuid": "be286bf0-3173-42b8-b039-9adfab785c00",
     "showTitle": false,
     "title": ""
    }
   },
   "outputs": [],
   "source": [
    "technicians = [element[\"technicianId\"] for element in dados_sinteticos.select(\"technicianId\").distinct().collect()]"
   ]
  },
  {
   "cell_type": "code",
   "execution_count": 0,
   "metadata": {
    "application/vnd.databricks.v1+cell": {
     "cellMetadata": {
      "byteLimit": 2048000,
      "rowLimit": 10000
     },
     "inputWidgets": {},
     "nuid": "af96e7a2-2e88-40e5-9c43-d3caa16a608e",
     "showTitle": false,
     "title": ""
    }
   },
   "outputs": [
    {
     "output_type": "execute_result",
     "data": {
      "text/plain": [
       "<databricks_genai_inference.api.objects.chat_completion_object.ChatCompletionObject at 0x7f4a32367130>"
      ]
     },
     "execution_count": 161,
     "metadata": {},
     "output_type": "execute_result"
    }
   ],
   "source": [
    "chat.reply(f\"\"\"Agora gere uma lista com o ID do técnico e o nome completo de cada ID te técnico a seguir: {technicians}. Exemplos de nomes: João das neves, Maria de Oliveira, João Caminhante, etc. A lista deve ter apenas UM NOME para cada ID de técnico\"\"\")"
   ]
  },
  {
   "cell_type": "code",
   "execution_count": 0,
   "metadata": {
    "application/vnd.databricks.v1+cell": {
     "cellMetadata": {
      "byteLimit": 2048000,
      "rowLimit": 10000
     },
     "inputWidgets": {},
     "nuid": "cdb77636-8479-462b-a7d5-735327c3e22b",
     "showTitle": false,
     "title": ""
    }
   },
   "outputs": [],
   "source": [
    "tecnicos = []\n",
    "for elemento in list(ast.literal_eval(str(chat.last).replace(\"\\n\", \"\"))):\n",
    "    tecnicos.append({\n",
    "        \"technicianId\": elemento[0],\n",
    "        \"technicianName\": elemento[1]\n",
    "    })"
   ]
  },
  {
   "cell_type": "code",
   "execution_count": 0,
   "metadata": {
    "application/vnd.databricks.v1+cell": {
     "cellMetadata": {
      "byteLimit": 2048000,
      "rowLimit": 10000
     },
     "inputWidgets": {},
     "nuid": "2f16ad0e-9c11-46ce-87c6-389690a91b97",
     "showTitle": false,
     "title": ""
    }
   },
   "outputs": [],
   "source": [
    "tecnicos = spark.createDataFrame(tecnicos)"
   ]
  },
  {
   "cell_type": "code",
   "execution_count": 0,
   "metadata": {
    "application/vnd.databricks.v1+cell": {
     "cellMetadata": {
      "byteLimit": 2048000,
      "rowLimit": 10000
     },
     "inputWidgets": {},
     "nuid": "e236822e-82ac-4779-adbb-1b3fcb965603",
     "showTitle": false,
     "title": ""
    }
   },
   "outputs": [
    {
     "output_type": "display_data",
     "data": {
      "text/html": [
       "<style scoped>\n",
       "  .table-result-container {\n",
       "    max-height: 300px;\n",
       "    overflow: auto;\n",
       "  }\n",
       "  table, th, td {\n",
       "    border: 1px solid black;\n",
       "    border-collapse: collapse;\n",
       "  }\n",
       "  th, td {\n",
       "    padding: 5px;\n",
       "  }\n",
       "  th {\n",
       "    text-align: left;\n",
       "  }\n",
       "</style><div class='table-result-container'><table class='table-result'><thead style='background-color: white'><tr><th>technicianId</th><th>technicianName</th></tr></thead><tbody><tr><td>Técnico D</td><td>Apolo dos Santos</td></tr><tr><td>Técnico C</td><td>Diana da Costa</td></tr><tr><td>Técnico A</td><td>Bruna da Silva</td></tr><tr><td>Técnico B</td><td>César de Oliveira</td></tr></tbody></table></div>"
      ]
     },
     "metadata": {
      "application/vnd.databricks.v1+output": {
       "addedWidgets": {},
       "aggData": [],
       "aggError": "",
       "aggOverflow": false,
       "aggSchema": [],
       "aggSeriesLimitReached": false,
       "aggType": "",
       "arguments": {},
       "columnCustomDisplayInfos": {},
       "data": [
        [
         "Técnico D",
         "Apolo dos Santos"
        ],
        [
         "Técnico C",
         "Diana da Costa"
        ],
        [
         "Técnico A",
         "Bruna da Silva"
        ],
        [
         "Técnico B",
         "César de Oliveira"
        ]
       ],
       "datasetInfos": [],
       "dbfsResultPath": null,
       "isJsonSchema": true,
       "metadata": {},
       "overflow": false,
       "plotOptions": {
        "customPlotOptions": {},
        "displayType": "table",
        "pivotAggregation": null,
        "pivotColumns": null,
        "xColumns": null,
        "yColumns": null
       },
       "removedWidgets": [],
       "schema": [
        {
         "metadata": "{}",
         "name": "technicianId",
         "type": "\"string\""
        },
        {
         "metadata": "{}",
         "name": "technicianName",
         "type": "\"string\""
        }
       ],
       "type": "table"
      }
     },
     "output_type": "display_data"
    }
   ],
   "source": [
    "display(tecnicos)"
   ]
  },
  {
   "cell_type": "code",
   "execution_count": 0,
   "metadata": {
    "application/vnd.databricks.v1+cell": {
     "cellMetadata": {},
     "inputWidgets": {},
     "nuid": "959ba934-9f64-434e-832b-ab2d7c505a01",
     "showTitle": false,
     "title": ""
    }
   },
   "outputs": [],
   "source": []
  }
 ],
 "metadata": {
  "application/vnd.databricks.v1+notebook": {
   "dashboards": [],
   "language": "python",
   "notebookMetadata": {
    "pythonIndentUnit": 4
   },
   "notebookName": "Generate_fake_data",
   "widgets": {}
  }
 },
 "nbformat": 4,
 "nbformat_minor": 0
}
